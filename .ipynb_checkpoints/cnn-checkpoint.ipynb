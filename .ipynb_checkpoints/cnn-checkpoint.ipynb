{
 "cells": [
  {
   "cell_type": "code",
   "execution_count": 1,
   "metadata": {},
   "outputs": [],
   "source": [
    "import matplotlib.pyplot as plt\n",
    "import numpy as np\n",
    "import cv2\n",
    "import os\n",
    "from PIL import Image\n",
    "import matplotlib.pyplot as plt\n",
    "import random\n",
    "import pathlib\n",
    "import pandas as pd\n",
    "import torch\n",
    "from torchvision import transforms\n",
    "import torch.nn as nn\n",
    "import torch.nn.functional as F\n",
    "import torch.optim as optim\n",
    "from torch.utils.data import DataLoader, TensorDataset\n",
    "from torchvision.io import read_image\n",
    "from torch.utils.data import Dataset\n",
    "from torchvision import transforms\n",
    "from utilss import get_accuracy, plot_curve, keep_store_dict, store_dict_to_disk\n",
    "from data_loader import ImageDataset\n",
    "from initializers import gaussian_initializer, constant_initializer\n",
    "from models import Model3, ModelM, Concatenated, Model2, Model1, ModelAVE, Model\n",
    "from test import  test\n",
    "from train import train"
   ]
  },
  {
   "cell_type": "code",
   "execution_count": 2,
   "metadata": {},
   "outputs": [
    {
     "data": {
      "text/plain": [
       "' data_augmentation = transforms.Compose([\\n    transforms.RandomHorizontalFlip(),\\n    transforms.RandomRotation(10),  # 0.1 radians is approximately 10 degrees\\n    transforms.RandomResizedCrop(368, scale=(0.9, 1.0), ratio=(1.0, 1.0))  # Assuming 10% zoom translates to a scale of (0.9, 1.0)\\n]) '"
      ]
     },
     "execution_count": 2,
     "metadata": {},
     "output_type": "execute_result"
    }
   ],
   "source": [
    "\"\"\" data_augmentation = transforms.Compose([\n",
    "    transforms.RandomHorizontalFlip(),\n",
    "    transforms.RandomRotation(10),  # 0.1 radians is approximately 10 degrees\n",
    "    transforms.RandomResizedCrop(368, scale=(0.9, 1.0), ratio=(1.0, 1.0))  # Assuming 10% zoom translates to a scale of (0.9, 1.0)\n",
    "]) \"\"\""
   ]
  },
  {
   "cell_type": "code",
   "execution_count": 2,
   "metadata": {},
   "outputs": [],
   "source": [
    "model1 = Model1()\n",
    "model2 = Model2()\n",
    "modelAVE = ModelAVE()\n",
    "concatenated_stage2 = Concatenated(model1, model2, modelAVE)\n",
    "model2_M = ModelM()\n",
    "model3 = Model3()\n",
    "concatenated_stage3 = Concatenated(model3, model2_M, modelAVE)\n",
    "model3_M = ModelM()"
   ]
  },
  {
   "cell_type": "code",
   "execution_count": 3,
   "metadata": {},
   "outputs": [
    {
     "data": {
      "text/plain": [
       "' device = torch.device(\"cuda\" if torch.cuda.is_available() else \"cpu\")\\ntorch_tensor = torch_tensor.to(device) '"
      ]
     },
     "execution_count": 3,
     "metadata": {},
     "output_type": "execute_result"
    }
   ],
   "source": [
    "model = Model(model1, model2, model3, modelAVE, concatenated_stage2, concatenated_stage3, model2_M, model3_M)\n",
    "device = torch.device(\"cuda:0\" if torch.cuda.is_available() else \"cpu\")\n",
    "model = model.to(device)\n",
    "\"\"\" device = torch.device(\"cuda\" if torch.cuda.is_available() else \"cpu\")\n",
    "torch_tensor = torch_tensor.to(device) \"\"\""
   ]
  },
  {
   "cell_type": "code",
   "execution_count": 6,
   "metadata": {},
   "outputs": [],
   "source": [
    "dataset_test = ImageDataset(\"heat_maps_test_plain\", \"images_test\", (368, 368), model.center_map)\n",
    "dataset_training = ImageDataset(\"heat_maps_nmpy\", \"images_training\", (368, 368), model.center_map)"
   ]
  },
  {
   "cell_type": "code",
   "execution_count": 7,
   "metadata": {},
   "outputs": [
    {
     "data": {
      "text/plain": [
       "(tensor([[[0.5077, 0.6634, 0.6536,  ..., 0.1151, 0.0000, 0.0000],\n",
       "          [0.6657, 0.8626, 0.8642,  ..., 0.1507, 0.0000, 0.0000],\n",
       "          [0.6314, 0.8653, 0.8772,  ..., 0.1487, 0.0000, 0.0000],\n",
       "          ...,\n",
       "          [0.1320, 0.1716, 0.1737,  ..., 0.0852, 0.0000, 0.0000],\n",
       "          [0.1294, 0.1686, 0.1716,  ..., 0.0839, 0.0000, 0.0000],\n",
       "          [0.0932, 0.1320, 0.1342,  ..., 0.0607, 0.0000, 0.0000]],\n",
       " \n",
       "         [[0.5548, 0.7105, 0.7007,  ..., 0.1043, 0.0000, 0.0000],\n",
       "          [0.7128, 0.9096, 0.9112,  ..., 0.1389, 0.0000, 0.0000],\n",
       "          [0.6785, 0.9123, 0.9243,  ..., 0.1369, 0.0000, 0.0000],\n",
       "          ...,\n",
       "          [0.1438, 0.1834, 0.1843,  ..., 0.0804, 0.0000, 0.0000],\n",
       "          [0.1412, 0.1803, 0.1822,  ..., 0.0791, 0.0000, 0.0000],\n",
       "          [0.1050, 0.1437, 0.1448,  ..., 0.0560, 0.0000, 0.0000]],\n",
       " \n",
       "         [[0.5077, 0.6634, 0.6536,  ..., 0.1055, 0.0000, 0.0000],\n",
       "          [0.6657, 0.8626, 0.8642,  ..., 0.1401, 0.0000, 0.0000],\n",
       "          [0.6314, 0.8653, 0.8772,  ..., 0.1362, 0.0000, 0.0000],\n",
       "          ...,\n",
       "          [0.1163, 0.1559, 0.1592,  ..., 0.0698, 0.0000, 0.0000],\n",
       "          [0.1137, 0.1529, 0.1571,  ..., 0.0685, 0.0000, 0.0000],\n",
       "          [0.0775, 0.1163, 0.1197,  ..., 0.0454, 0.0000, 0.0000]]]),\n",
       " array([[[0., 0., 0., ..., 0., 0., 1.],\n",
       "         [0., 0., 0., ..., 0., 0., 1.],\n",
       "         [0., 0., 0., ..., 0., 0., 1.],\n",
       "         ...,\n",
       "         [0., 0., 0., ..., 0., 0., 1.],\n",
       "         [0., 0., 0., ..., 0., 0., 1.],\n",
       "         [0., 0., 0., ..., 0., 0., 1.]],\n",
       " \n",
       "        [[0., 0., 0., ..., 0., 0., 1.],\n",
       "         [0., 0., 0., ..., 0., 0., 1.],\n",
       "         [0., 0., 0., ..., 0., 0., 1.],\n",
       "         ...,\n",
       "         [0., 0., 0., ..., 0., 0., 1.],\n",
       "         [0., 0., 0., ..., 0., 0., 1.],\n",
       "         [0., 0., 0., ..., 0., 0., 1.]],\n",
       " \n",
       "        [[0., 0., 0., ..., 0., 0., 1.],\n",
       "         [0., 0., 0., ..., 0., 0., 1.],\n",
       "         [0., 0., 0., ..., 0., 0., 1.],\n",
       "         ...,\n",
       "         [0., 0., 0., ..., 0., 0., 1.],\n",
       "         [0., 0., 0., ..., 0., 0., 1.],\n",
       "         [0., 0., 0., ..., 0., 0., 1.]],\n",
       " \n",
       "        ...,\n",
       " \n",
       "        [[0., 0., 0., ..., 0., 0., 1.],\n",
       "         [0., 0., 0., ..., 0., 0., 1.],\n",
       "         [0., 0., 0., ..., 0., 0., 1.],\n",
       "         ...,\n",
       "         [0., 0., 0., ..., 0., 0., 1.],\n",
       "         [0., 0., 0., ..., 0., 0., 1.],\n",
       "         [0., 0., 0., ..., 0., 0., 1.]],\n",
       " \n",
       "        [[0., 0., 0., ..., 0., 0., 1.],\n",
       "         [0., 0., 0., ..., 0., 0., 1.],\n",
       "         [0., 0., 0., ..., 0., 0., 1.],\n",
       "         ...,\n",
       "         [0., 0., 0., ..., 0., 0., 1.],\n",
       "         [0., 0., 0., ..., 0., 0., 1.],\n",
       "         [0., 0., 0., ..., 0., 0., 1.]],\n",
       " \n",
       "        [[0., 0., 0., ..., 0., 0., 1.],\n",
       "         [0., 0., 0., ..., 0., 0., 1.],\n",
       "         [0., 0., 0., ..., 0., 0., 1.],\n",
       "         ...,\n",
       "         [0., 0., 0., ..., 0., 0., 1.],\n",
       "         [0., 0., 0., ..., 0., 0., 1.],\n",
       "         [0., 0., 0., ..., 0., 0., 1.]]], dtype=float16))"
      ]
     },
     "execution_count": 7,
     "metadata": {},
     "output_type": "execute_result"
    }
   ],
   "source": [
    "dataset_training[0]"
   ]
  },
  {
   "cell_type": "code",
   "execution_count": null,
   "metadata": {},
   "outputs": [],
   "source": [
    "loss_function = nn.CrossEntropyLoss()\n",
    "learning_rate = 0.001\n",
    "optimizer = torch.optim.SGD(model.parameters(), lr=learning_rate)"
   ]
  },
  {
   "cell_type": "code",
   "execution_count": null,
   "metadata": {},
   "outputs": [],
   "source": [
    "store_dict = train(model=model, num_epochs=5, train_loader=dataset_training, test_loader=dataset_test, store_dict=None)\n",
    "store_dict_to_disk(store_dict=store_dict)"
   ]
  }
 ],
 "metadata": {
  "kernelspec": {
   "display_name": "Python 3",
   "language": "python",
   "name": "python3"
  },
  "language_info": {
   "codemirror_mode": {
    "name": "ipython",
    "version": 3
   },
   "file_extension": ".py",
   "mimetype": "text/x-python",
   "name": "python",
   "nbconvert_exporter": "python",
   "pygments_lexer": "ipython3",
   "version": "3.10.11"
  }
 },
 "nbformat": 4,
 "nbformat_minor": 2
}
